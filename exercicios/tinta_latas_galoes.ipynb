{
 "cells": [
  {
   "cell_type": "code",
   "execution_count": 16,
   "metadata": {},
   "outputs": [
    {
     "name": "stdout",
     "output_type": "stream",
     "text": [
      "Digite, o valor em metros quadrados a ser pintado. 345\n",
      "É necessário comprar 57.5L de tinta\n",
      "Comprando apenas latas de 18L cada, você vai usar 4 latas e gastar R$320\n",
      "Comprando apenas galões de 3,6L cada, você vai usar 16 galões e gastar R$400\n",
      "Comprando 4 latas e 2 galões você paga o valor de R$ 370.0\n"
     ]
    }
   ],
   "source": [
    "import math\n",
    "\n",
    "\n",
    "area_pintar = float(input(\"Digite, o valor em metros quadrados a ser pintado. \"))\n",
    "litros_necessarios = area_pintar/6\n",
    "\n",
    "resto_latas = math.ceil(litros_necessarios%18)\n",
    "resto_galoes = math.ceil(litros_necessarios%3.6)\n",
    "\n",
    "galoes = math.ceil(litros_necessarios/3.6)\n",
    "latas = math.ceil(litros_necessarios/18)\n",
    "\n",
    "add_lata = latas\n",
    "add_galao = 0\n",
    "\n",
    "preco_latas = latas*80.0\n",
    "preco_galao = galoes*25\n",
    "preco_mix = preco_latas\n",
    "\n",
    "preco_so_lata = math.ceil(preco_latas)\n",
    "preco_so_galao = math.ceil(preco_galao)\n",
    "quant_so_latas = math.ceil(litros_necessarios/18)\n",
    "quant_so_galao = math.ceil(litros_necessarios/3.6)\n",
    "\n",
    "if(resto_latas>10.8): \n",
    "    \n",
    "    add_lata+=1\n",
    "    preco_mix += 80\n",
    "    \n",
    "    print(\"É necessário comprar {}L de tinta\".format(litros_necessarios))\n",
    "    print(\"Comprando apenas latas de 18L cada, você vai usar {} latas e gastar R${}\".format(quant_so_latas, preco_so_lata))\n",
    "    print(\"Comprando apenas galões de 3,6L cada, você vai usar {} galões e gastar R${}\".format(quant_so_galao, preco_so_galao))\n",
    "    print(\"No seu caso não é indicado comprar galões misturados com latas\")\n",
    "\n",
    "elif(resto_latas<=10.8): \n",
    "    \n",
    "    if(resto_latas<3.6): \n",
    "        \n",
    "        add_galao += 1\n",
    "        preco_mix += 25\n",
    "        print(\"É necessário comprar {}L de tinta\".format(litros_necessarios))\n",
    "        print(\"Comprando apenas latas de 18L cada, você vai usar {} latas e gastar R${}\".format(quant_so_latas, preco_so_lata))\n",
    "        print(\"Comprando apenas galões de 3,6L cada, você vai usar {} galões e gastar R${}\".format(quant_so_galao, preco_so_galao))\n",
    "        print(\"Comprando {} latas e {} galão você paga o valor de R$ {}\".format(add_lata, add_galao, preco_mix))\n",
    "    \n",
    "    elif(resto_latas<=7.2 and resto_latas>3.6):\n",
    "        \n",
    "        add_galao += 2\n",
    "        preco_mix += 50\n",
    "        \n",
    "        print(\"É necessário comprar {}L de tinta\".format(litros_necessarios))\n",
    "        print(\"Comprando apenas latas de 18L cada, você vai usar {} latas e gastar R${}\".format(quant_so_latas, preco_so_lata))\n",
    "        print(\"Comprando apenas galões de 3,6L cada, você vai usar {} galões e gastar R${}\".format(quant_so_galao, preco_so_galao))\n",
    "        print(\"Comprando {} latas e {} galões você paga o valor de R$ {}\".format(add_lata, add_galao, preco_mix))\n",
    "    \n",
    "    elif(resto_latas<=10.8 and resto_latas>7.2):\n",
    "        \n",
    "        add_galao += 3\n",
    "        preco_mix += 75\n",
    "        print(\"É necessário comprar {}L de tinta\".format(litros_necessarios))\n",
    "        print(\"Comprando apenas latas de 18L cada, você vai usar {} latas e gastar R${}\".format(quant_so_latas, preco_so_lata))\n",
    "        print(\"Comprando apenas galões de 3,6L cada, você vai usar {} galões e gastar R${}\".format(quant_so_galao, preco_so_galao))\n",
    "        print(\"Comprando {} latas e {} galão você paga o valor de R$ {}\".format(add_lata, add_galao, preco_mix))\n",
    "    \n",
    "\n",
    "\n"
   ]
  },
  {
   "cell_type": "code",
   "execution_count": 7,
   "metadata": {},
   "outputs": [
    {
     "name": "stdout",
     "output_type": "stream",
     "text": [
      "4\n"
     ]
    }
   ],
   "source": []
  },
  {
   "cell_type": "code",
   "execution_count": null,
   "metadata": {},
   "outputs": [],
   "source": []
  }
 ],
 "metadata": {
  "kernelspec": {
   "display_name": "Python 3",
   "language": "python",
   "name": "python3"
  },
  "language_info": {
   "codemirror_mode": {
    "name": "ipython",
    "version": 3
   },
   "file_extension": ".py",
   "mimetype": "text/x-python",
   "name": "python",
   "nbconvert_exporter": "python",
   "pygments_lexer": "ipython3",
   "version": "3.7.0"
  }
 },
 "nbformat": 4,
 "nbformat_minor": 2
}
