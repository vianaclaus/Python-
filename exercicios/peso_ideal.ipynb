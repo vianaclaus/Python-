{
 "cells": [
  {
   "cell_type": "code",
   "execution_count": 3,
   "metadata": {},
   "outputs": [
    {
     "name": "stdout",
     "output_type": "stream",
     "text": [
      "Qual é a sua altura? 1.52\n",
      "Se você for homem digite H, se você for mulher, digite Mm\n",
      "O seu peso ideal é: 49.69200000000001\n"
     ]
    }
   ],
   "source": [
    "height = float(input(\"Qual é a sua altura? \"))\n",
    "gender = input(\"Se você for homem digite H, se você for mulher, digite M\")\n",
    "\n",
    "if(gender==\"M\" or gender==\"m\"):\n",
    "    ideal_weight = 62.1*height - 44.7\n",
    "    \n",
    "elif(gender==\"H\" or gender==\"h\"):\n",
    "    ideal_weight = 72.7*height - 58.00\n",
    "    \n",
    "else:\n",
    "    print(\"Esse valor não é valido\")\n",
    "    \n",
    "print(\"O seu peso ideal é: {}\".format(ideal_weight))    "
   ]
  },
  {
   "cell_type": "code",
   "execution_count": null,
   "metadata": {},
   "outputs": [],
   "source": []
  }
 ],
 "metadata": {
  "kernelspec": {
   "display_name": "Python 3",
   "language": "python",
   "name": "python3"
  },
  "language_info": {
   "codemirror_mode": {
    "name": "ipython",
    "version": 3
   },
   "file_extension": ".py",
   "mimetype": "text/x-python",
   "name": "python",
   "nbconvert_exporter": "python",
   "pygments_lexer": "ipython3",
   "version": "3.7.0"
  }
 },
 "nbformat": 4,
 "nbformat_minor": 2
}
