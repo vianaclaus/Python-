{
 "cells": [
  {
   "cell_type": "code",
   "execution_count": 7,
   "metadata": {},
   "outputs": [
    {
     "name": "stdout",
     "output_type": "stream",
     "text": [
      "Type the value a5\n",
      "Type the value b5\n",
      "Type the value c1\n",
      "Os maiores numeros são 5 e 5\n"
     ]
    }
   ],
   "source": [
    "num1 = int(input(\"Type the value a\"))\n",
    "num2 = int(input(\"Type the value b\"))\n",
    "num3 = int(input(\"Type the value c\"))\n",
    "\n",
    "\n",
    "if(num1==num2):\n",
    "    if(num1>num3):\n",
    "        print(\"Os maiores numeros são {} e {}\".format(num1, num2))\n",
    "    else:\n",
    "        print(\"{} eh o maior valor\".format(num3))\n",
    "        \n",
    "elif(num1==num3):\n",
    "    if num1>num2:\n",
    "        print(\"Os maiores numeros são {} e {}\".format(num1, num3))\n",
    "    else:\n",
    "        print(\"{} eh o maior valor\")\n",
    "        \n",
    "elif(num2==num3):\n",
    "    if num2>num1:\n",
    "        print(\"Os maiores numeros são {} e {}\".format(num2, num3))\n",
    "    else:\n",
    "        print(\"{} é o maior valor\".format(num1))\n",
    "        \n",
    "elif(num1>num2):\n",
    "    if(num1>num3):\n",
    "        print(\"{} é o maior valor\".format(num1))\n",
    "    elif(num3>num1):\n",
    "        print(\"{} é o maior valor\".format(num3))\n",
    "        \n",
    "elif(num2>num1):\n",
    "    if(num2>num3):\n",
    "        print(\"{} é o maior valor\".format(num2))\n",
    "    if(num3>num2):\n",
    "        print(\"{} é o maior valor\".format(num3))\n",
    "\n"
   ]
  },
  {
   "cell_type": "code",
   "execution_count": null,
   "metadata": {},
   "outputs": [],
   "source": []
  },
  {
   "cell_type": "code",
   "execution_count": null,
   "metadata": {},
   "outputs": [],
   "source": []
  }
 ],
 "metadata": {
  "kernelspec": {
   "display_name": "Python 3",
   "language": "python",
   "name": "python3"
  },
  "language_info": {
   "codemirror_mode": {
    "name": "ipython",
    "version": 3
   },
   "file_extension": ".py",
   "mimetype": "text/x-python",
   "name": "python",
   "nbconvert_exporter": "python",
   "pygments_lexer": "ipython3",
   "version": "3.7.0"
  }
 },
 "nbformat": 4,
 "nbformat_minor": 2
}
