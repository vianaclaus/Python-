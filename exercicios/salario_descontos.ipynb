{
 "cells": [
  {
   "cell_type": "code",
   "execution_count": 2,
   "metadata": {},
   "outputs": [
    {
     "name": "stdout",
     "output_type": "stream",
     "text": [
      "Quanto você ganha por hora? 34\n",
      "Qual a quantidade de horas trabalhadas no mes?123\n",
      "+ Salário bruto: R$ 4182.0\n",
      "- IR:            R$ 460.02\n",
      "- INSS:          R$ 334.56\n",
      "- Sindicato:     R$ 209.1\n",
      "- Sal. Líquido   R$ 3178.32\n"
     ]
    }
   ],
   "source": [
    "valor_hora = float(input(\"Quanto você ganha por hora? \"))\n",
    "horas_mes = int(input(\"Qual a quantidade de horas trabalhadas no mes?\"))\n",
    "\n",
    "sal_bruto = valor_hora * horas_mes\n",
    "ir = (sal_bruto*11)/100\n",
    "inss = (sal_bruto*8)/100\n",
    "sindicato = (sal_bruto*5)/100\n",
    "descontos = ir+inss+sindicato\n",
    "sal_liq = sal_bruto - descontos\n",
    "\n",
    "\n",
    "\n",
    "print(\"+ Salário bruto: R$ {}\".format(sal_bruto))\n",
    "print(\"- IR:            R$ {}\".format(ir))\n",
    "print(\"- INSS:          R$ {}\".format(inss))\n",
    "print(\"- Sindicato:     R$ {}\".format(sindicato))\n",
    "print(\"- Sal. Líquido   R$ {}\".format(sal_liq))\n",
    "\n"
   ]
  },
  {
   "cell_type": "code",
   "execution_count": null,
   "metadata": {},
   "outputs": [],
   "source": []
  }
 ],
 "metadata": {
  "kernelspec": {
   "display_name": "Python 3",
   "language": "python",
   "name": "python3"
  },
  "language_info": {
   "codemirror_mode": {
    "name": "ipython",
    "version": 3
   },
   "file_extension": ".py",
   "mimetype": "text/x-python",
   "name": "python",
   "nbconvert_exporter": "python",
   "pygments_lexer": "ipython3",
   "version": "3.7.0"
  }
 },
 "nbformat": 4,
 "nbformat_minor": 2
}
