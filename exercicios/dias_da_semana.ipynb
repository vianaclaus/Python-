{
 "cells": [
  {
   "cell_type": "code",
   "execution_count": 5,
   "metadata": {},
   "outputs": [
    {
     "name": "stdout",
     "output_type": "stream",
     "text": [
      "Entre com um numero correspondente a um dia da semana9\n",
      "Valor inválido\n"
     ]
    }
   ],
   "source": [
    "number_week = int(input(\"Entre com um numero correspondente a um dia da semana\"))\n",
    "\n",
    "if number_week == 1:\n",
    "    print(\"Domingo\")\n",
    "elif number_week == 2:\n",
    "    print(\"Segunda\")\n",
    "elif number_week == 3:\n",
    "    print(\"Terça\")\n",
    "elif number_week == 4:\n",
    "    print(\"Quarta\")\n",
    "elif number_week == 5:\n",
    "    print(\"Quinta\")\n",
    "elif number_week == 6:\n",
    "    print(\"Sexta\")\n",
    "elif number_week == 7:\n",
    "    print(\"Sabado\")\n",
    "else:\n",
    "    print(\"Valor inválido\")\n",
    "    "
   ]
  },
  {
   "cell_type": "code",
   "execution_count": null,
   "metadata": {},
   "outputs": [],
   "source": []
  }
 ],
 "metadata": {
  "kernelspec": {
   "display_name": "Python 3",
   "language": "python",
   "name": "python3"
  },
  "language_info": {
   "codemirror_mode": {
    "name": "ipython",
    "version": 3
   },
   "file_extension": ".py",
   "mimetype": "text/x-python",
   "name": "python",
   "nbconvert_exporter": "python",
   "pygments_lexer": "ipython3",
   "version": "3.7.0"
  }
 },
 "nbformat": 4,
 "nbformat_minor": 2
}
