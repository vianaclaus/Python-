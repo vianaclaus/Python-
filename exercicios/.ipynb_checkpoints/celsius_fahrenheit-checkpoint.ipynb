{
 "cells": [
  {
   "cell_type": "code",
   "execution_count": 1,
   "metadata": {},
   "outputs": [
    {
     "name": "stdout",
     "output_type": "stream",
     "text": [
      "[122.0, 174.02, 37.4, 193.28, 73.58000000000001, 153.5]\n",
      "[-5.0, 19.444444444444443, -2.2222222222222223, -11.11111111111111]\n"
     ]
    }
   ],
   "source": [
    "class Conversao:\n",
    "    \n",
    "    def convCtoF(self, celsius):        \n",
    "    \n",
    "        fahre = (celsius *1.8)+32        \n",
    "        return fahre\n",
    "    \n",
    "    def convFtoC(self, fahr):\n",
    "        \n",
    "        cels = (fahr-32)/1.8\n",
    "        return cels\n",
    "    \n",
    "    \n",
    "celsius = [50.0, 78.9, 3, 89.6, 23.1, 67.5]     \n",
    "conv = Conversao()\n",
    "print(list(map(conv.convCtoF, celsius)))\n",
    "\n",
    "fahr = [23,67,28,12]\n",
    "print(list(map(conv.convFtoC, fahr)))\n",
    "    "
   ]
  },
  {
   "cell_type": "code",
   "execution_count": null,
   "metadata": {},
   "outputs": [],
   "source": []
  }
 ],
 "metadata": {
  "kernelspec": {
   "display_name": "Python 3",
   "language": "python",
   "name": "python3"
  },
  "language_info": {
   "codemirror_mode": {
    "name": "ipython",
    "version": 3
   },
   "file_extension": ".py",
   "mimetype": "text/x-python",
   "name": "python",
   "nbconvert_exporter": "python",
   "pygments_lexer": "ipython3",
   "version": "3.7.0"
  }
 },
 "nbformat": 4,
 "nbformat_minor": 2
}
