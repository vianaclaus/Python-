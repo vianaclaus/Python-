{
 "cells": [
  {
   "cell_type": "code",
   "execution_count": 5,
   "metadata": {},
   "outputs": [
    {
     "name": "stdout",
     "output_type": "stream",
     "text": [
      "Entre com a primeira nota6\n",
      "Entre com a segunda nota6\n",
      "Notas: 6.0 e 6.0\n",
      "Média de Aproveitamento        Conceito\n",
      "ENTRE 6.0 E 7.5                C               APROVADO\n"
     ]
    }
   ],
   "source": [
    "grade1 = float(input(\"Entre com a primeira nota\"))\n",
    "grade2 = float(input(\"Entre com a segunda nota\"))\n",
    "\n",
    "average = (grade1+grade2)/2\n",
    "av = \"\"\n",
    "if average>=9.00:\n",
    "    av = \"ENTRE 9.0 E 10.0\"\n",
    "    conceito = \"A\"\n",
    "    situation = \"APROVADO\"\n",
    "elif average >=7.5:\n",
    "    av = \"ENTRE 7.5 E 9.0\"\n",
    "    conceito = \"B\"\n",
    "    situation = \"APROVADO\"\n",
    "elif average >= 6.0:\n",
    "    av = \"ENTRE 6.0 E 7.5\"\n",
    "    conceito = \"C\"\n",
    "    situation = \"APROVADO\"\n",
    "elif average >= 4 and average<= 6.0:\n",
    "    av = \"ENTRE 4.0 E 6\"\n",
    "    conceito = \"D\"\n",
    "    situation = \"REPROVADO\"\n",
    "elif average <4:\n",
    "    av = \"ENTRE 0.0 E 4.0\"\n",
    "    conceito = \"E\"\n",
    "    situation = \"REPROVADO\"\n",
    "    \n",
    "print(\"Notas: {} e {}\".format(grade1, grade2))    \n",
    "print(\"Média de Aproveitamento        Conceito\") \n",
    "print(\"{}                {}               {}\".format(av, conceito, situation))"
   ]
  },
  {
   "cell_type": "code",
   "execution_count": null,
   "metadata": {},
   "outputs": [],
   "source": []
  }
 ],
 "metadata": {
  "kernelspec": {
   "display_name": "Python 3",
   "language": "python",
   "name": "python3"
  },
  "language_info": {
   "codemirror_mode": {
    "name": "ipython",
    "version": 3
   },
   "file_extension": ".py",
   "mimetype": "text/x-python",
   "name": "python",
   "nbconvert_exporter": "python",
   "pygments_lexer": "ipython3",
   "version": "3.7.0"
  }
 },
 "nbformat": 4,
 "nbformat_minor": 2
}
