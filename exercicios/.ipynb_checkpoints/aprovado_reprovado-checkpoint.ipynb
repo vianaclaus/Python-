{
 "cells": [
  {
   "cell_type": "code",
   "execution_count": 3,
   "metadata": {},
   "outputs": [
    {
     "name": "stdout",
     "output_type": "stream",
     "text": [
      "Digite a primeira nota7\n",
      "Digite a segunda nota7\n",
      "Aprovado\n"
     ]
    }
   ],
   "source": [
    "grade1 = float(input(\"Digite a primeira nota\"))\n",
    "grade2 = float(input(\"Digite a segunda nota\"))\n",
    "\n",
    "average = (grade1+grade2)/2.00\n",
    "\n",
    "if average == 10.00:\n",
    "    print(\"Aprovado com distinção\")\n",
    "elif average >= 7.00:\n",
    "    print(\"Aprovado\")\n",
    "else:\n",
    "    print(\"Reprovado\")"
   ]
  },
  {
   "cell_type": "code",
   "execution_count": null,
   "metadata": {},
   "outputs": [],
   "source": []
  }
 ],
 "metadata": {
  "kernelspec": {
   "display_name": "Python 3",
   "language": "python",
   "name": "python3"
  },
  "language_info": {
   "codemirror_mode": {
    "name": "ipython",
    "version": 3
   },
   "file_extension": ".py",
   "mimetype": "text/x-python",
   "name": "python",
   "nbconvert_exporter": "python",
   "pygments_lexer": "ipython3",
   "version": "3.7.0"
  }
 },
 "nbformat": 4,
 "nbformat_minor": 2
}
