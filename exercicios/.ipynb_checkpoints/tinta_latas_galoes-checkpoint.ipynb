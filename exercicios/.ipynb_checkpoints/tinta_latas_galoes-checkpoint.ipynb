{
 "cells": [
  {
   "cell_type": "code",
   "execution_count": 13,
   "metadata": {},
   "outputs": [
    {
     "name": "stdout",
     "output_type": "stream",
     "text": [
      "Digite, o valor em metros quadrados a ser pintado. 345\n",
      "É necessário comprar 57.5L de tinta\n"
     ]
    },
    {
     "ename": "NameError",
     "evalue": "name 'preco_so_latas' is not defined",
     "output_type": "error",
     "traceback": [
      "\u001b[1;31m---------------------------------------------------------------------------\u001b[0m",
      "\u001b[1;31mNameError\u001b[0m                                 Traceback (most recent call last)",
      "\u001b[1;32m<ipython-input-13-c1dfe398fa61>\u001b[0m in \u001b[0;36m<module>\u001b[1;34m()\u001b[0m\n\u001b[0;32m     50\u001b[0m \u001b[1;33m\u001b[0m\u001b[0m\n\u001b[0;32m     51\u001b[0m         \u001b[0mprint\u001b[0m\u001b[1;33m(\u001b[0m\u001b[1;34m\"É necessário comprar {}L de tinta\"\u001b[0m\u001b[1;33m.\u001b[0m\u001b[0mformat\u001b[0m\u001b[1;33m(\u001b[0m\u001b[0mlitros_necessarios\u001b[0m\u001b[1;33m)\u001b[0m\u001b[1;33m)\u001b[0m\u001b[1;33m\u001b[0m\u001b[0m\n\u001b[1;32m---> 52\u001b[1;33m         \u001b[0mprint\u001b[0m\u001b[1;33m(\u001b[0m\u001b[1;34m\"Comprando apenas latas de 18L cada, você vai usar {} latas e gastar R${}\"\u001b[0m\u001b[1;33m.\u001b[0m\u001b[0mformat\u001b[0m\u001b[1;33m(\u001b[0m\u001b[0mquant_so_latas\u001b[0m\u001b[1;33m,\u001b[0m \u001b[0mpreco_so_latas\u001b[0m\u001b[1;33m)\u001b[0m\u001b[1;33m)\u001b[0m\u001b[1;33m\u001b[0m\u001b[0m\n\u001b[0m\u001b[0;32m     53\u001b[0m         \u001b[0mprint\u001b[0m\u001b[1;33m(\u001b[0m\u001b[1;34m\"Comprando apenas galões de 3,6L cada, você vai usar {} galões e gastar R${}\"\u001b[0m\u001b[1;33m.\u001b[0m\u001b[0mformat\u001b[0m\u001b[1;33m(\u001b[0m\u001b[0mquant_so_galao\u001b[0m\u001b[1;33m,\u001b[0m \u001b[0mpreco_so_galao\u001b[0m\u001b[1;33m)\u001b[0m\u001b[1;33m)\u001b[0m\u001b[1;33m\u001b[0m\u001b[0m\n\u001b[0;32m     54\u001b[0m         \u001b[0mprint\u001b[0m\u001b[1;33m(\u001b[0m\u001b[1;34m\"Comprando {} latas e {} galões você paga o valor de R$ {}\"\u001b[0m\u001b[1;33m.\u001b[0m\u001b[0mformat\u001b[0m\u001b[1;33m(\u001b[0m\u001b[0madd_latas\u001b[0m\u001b[1;33m,\u001b[0m \u001b[0madd_galao\u001b[0m\u001b[1;33m,\u001b[0m \u001b[0mpreco_mix\u001b[0m\u001b[1;33m)\u001b[0m\u001b[1;33m)\u001b[0m\u001b[1;33m\u001b[0m\u001b[0m\n",
      "\u001b[1;31mNameError\u001b[0m: name 'preco_so_latas' is not defined"
     ]
    }
   ],
   "source": [
    "import math\n",
    "\n",
    "\n",
    "area_pintar = float(input(\"Digite, o valor em metros quadrados a ser pintado. \"))\n",
    "litros_necessarios = area_pintar/6\n",
    "\n",
    "resto_latas = math.ceil(litros_necessarios%18)\n",
    "resto_galoes = math.ceil(litros_necessarios%3.6)\n",
    "\n",
    "galoes = litros_necessarios/3.6\n",
    "latas = litros_necessarios/18\n",
    "\n",
    "add_lata = latas\n",
    "add_galao = 0\n",
    "\n",
    "preco_latas = latas*80.0\n",
    "preco_galao = galoes*25\n",
    "preco_mix = preco_latas\n",
    "\n",
    "preco_so_lata = math.ceil(preco_latas)\n",
    "preco_so_galao = math.ceil(preco_galao)\n",
    "quant_so_latas = math.ceil(litros_necessarios/18)\n",
    "quant_so_galao = math.ceil(litros_necessarios/3.6)\n",
    "\n",
    "if(resto_latas>10.8): \n",
    "    \n",
    "    add_lata+=1\n",
    "    preco_mix += 80\n",
    "    \n",
    "    print(\"É necessário comprar {}L de tinta\".format(litros_necessarios))\n",
    "    print(\"Comprando apenas latas de 18L cada, você vai usar {} latas e gastar R${}\".format(quant_so_latas, preco_so_lata))\n",
    "    print(\"Comprando apenas galões de 3,6L cada, você vai usar {} galões e gastar R${}\".format(quant_so_galao, preco_so_galao))\n",
    "    print(\"No seu caso não é indicado comprar galões misturados com latas\")\n",
    "\n",
    "elif(resto_latas<=10.8): \n",
    "    \n",
    "    if(resto_latas<3.6): \n",
    "        \n",
    "        add_galao += 1\n",
    "        preco_mix += 25\n",
    "        print(\"É necessário comprar {}L de tinta\".format(litros_necessarios))\n",
    "        print(\"Comprando apenas latas de 18L cada, você vai usar {} latas e gastar R${}\".format(quant_so_latas, preco_so_latas))\n",
    "        print(\"Comprando apenas galões de 3,6L cada, você vai usar {} galões e gastar R${}\".format(quant_so_galao, preco_so_galao))\n",
    "        print(\"Comprando {} latas e {} galão você paga o valor de R$ {}\".format(add_latas, add_galao, preco_mix))\n",
    "    \n",
    "    elif(resto_latas<=7.2 and resto_latas>3.6):\n",
    "        \n",
    "        add_galao += 2\n",
    "        preco_mix += 50\n",
    "        \n",
    "        print(\"É necessário comprar {}L de tinta\".format(litros_necessarios))\n",
    "        print(\"Comprando apenas latas de 18L cada, você vai usar {} latas e gastar R${}\".format(quant_so_latas, preco_so_latas))\n",
    "        print(\"Comprando apenas galões de 3,6L cada, você vai usar {} galões e gastar R${}\".format(quant_so_galao, preco_so_galao))\n",
    "        print(\"Comprando {} latas e {} galões você paga o valor de R$ {}\".format(add_latas, add_galao, preco_mix))\n",
    "    \n",
    "    elif(resto_latas<=10.8 and resto_latas>7.2):\n",
    "        \n",
    "        add_galao += 3\n",
    "        preco_mix += 75\n",
    "        print(\"É necessário comprar {}L de tinta\".format(litros_necessarios))\n",
    "        print(\"Comprando apenas latas de 18L cada, você vai usar {} latas e gastar R${}\".format(quant_so_latas, preco_so_lata))\n",
    "        print(\"Comprando apenas galões de 3,6L cada, você vai usar {} galões e gastar R${}\".format(quant_so_galao, preco_so_galao))\n",
    "        print(\"Comprando {} latas e {} galão você paga o valor de R$ {}\".format(add_latas, add_galao, preco_mix))\n",
    "    \n",
    "\n",
    "\n"
   ]
  },
  {
   "cell_type": "code",
   "execution_count": 7,
   "metadata": {},
   "outputs": [
    {
     "name": "stdout",
     "output_type": "stream",
     "text": [
      "4\n"
     ]
    }
   ],
   "source": []
  },
  {
   "cell_type": "code",
   "execution_count": null,
   "metadata": {},
   "outputs": [],
   "source": []
  }
 ],
 "metadata": {
  "kernelspec": {
   "display_name": "Python 3",
   "language": "python",
   "name": "python3"
  },
  "language_info": {
   "codemirror_mode": {
    "name": "ipython",
    "version": 3
   },
   "file_extension": ".py",
   "mimetype": "text/x-python",
   "name": "python",
   "nbconvert_exporter": "python",
   "pygments_lexer": "ipython3",
   "version": "3.7.0"
  }
 },
 "nbformat": 4,
 "nbformat_minor": 2
}
