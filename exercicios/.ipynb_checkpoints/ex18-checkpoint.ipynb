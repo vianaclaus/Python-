{
 "cells": [
  {
   "cell_type": "code",
   "execution_count": 25,
   "metadata": {},
   "outputs": [
    {
     "name": "stdout",
     "output_type": "stream",
     "text": [
      "Insira um valor11\n",
      "{} dezena e 1 unidade.\n"
     ]
    }
   ],
   "source": [
    "num = int(input(\"Insira um valor\"))\n",
    "\n",
    "if num>=100:\n",
    "    centenas = num//100\n",
    "    resto = num%100\n",
    "    dezenas = resto//10\n",
    "    unidades = resto%10\n",
    "    \n",
    "    if centenas>1:\n",
    "        if dezenas>1:\n",
    "            if unidades>1:                                \n",
    "                print(\"{} centenas, {} dezenas e {} unidades.\".format(centenas,dezenas,unidades))\n",
    "                \n",
    "            elif unidades == 0:               \n",
    "                print(\"{} centenas e {} dezenas.\".format(centenas,dezenas))   \n",
    "                \n",
    "        elif dezenas==0 and unidades==0: \n",
    "            print(\"{} centenas.\".format(centenas)) \n",
    "            \n",
    "        elif dezenas==0 and unidades==1:\n",
    "            print(\"{} centenas e {} unidade.\".format(centenas,unidades))\n",
    "            \n",
    "        elif dezenas==0 and unidades>1:            \n",
    "            print(\"{} centenas e {} unidades.\".format(centenas,unidades))           \n",
    "                      \n",
    "        elif dezenas==1 and unidades==1:\n",
    "            print(\"{} centenas, {} dezena e {} unidade.\".format(centenas,dezenas,unidades))\n",
    "        elif dezenas==1 and unidades == 0:\n",
    "            print(\"{} centenas e {} dezena\".format(centenas,dezenas))\n",
    "            \n",
    "    elif centenas==1:\n",
    "        if dezenas == 1 and unidades == 1:\n",
    "            print(\"{} centena, {} dezena e {} unidade.\".format(centenas,dezenas,unidades) ) \n",
    "            \n",
    "        elif dezenas == 0 and unidades == 1:\n",
    "            print(\"{} centena e {} unidade.\".format(centenas,unidades))\n",
    "            \n",
    "        elif dezenas == 0 and unidades == 0:\n",
    "            print(\"{} centena.\".format(centenas))\n",
    "            \n",
    "        elif dezenas == 1 and unidades == 0:\n",
    "            print(\"{} centena e {} dezena.\".format(centenas, dezenas))          \n",
    "            \n",
    "else:    \n",
    "    dezenas = num//10\n",
    "    unidades = num%10    \n",
    "     \n",
    "    if dezenas>1 and unidades>1:\n",
    "        print(\"{} dezenas e {} unidades.\".format(dezenas, unidades))\n",
    "    elif dezenas == 1 and unidades== 0:                      \n",
    "        print(\"{} dezena.\".format(dezenas))            \n",
    "    elif dezenas>1 and unidades == 1:\n",
    "        print(\"{} dezenas e {} unidade.\".format(dezenas,unidades)) \n",
    "    elif dezenas>1 and unidades == 0:\n",
    "        print(\"{} dezenas.\".format(dezenas))\n",
    "    elif dezenas == 0 and unidades == 1:\n",
    "        print(\"{} unidade.\".format(unidades))            \n",
    "    elif dezenas == 0 and unidades>1:\n",
    "        print(\"{} unidades.\".format(unidades))          \n",
    "    elif dezenas == 1 and unidades>1:  \n",
    "        print(\"{} dezena e unidades.\".format(dezenas,unidades))\n",
    "    elif dezenas == 1 and unidades == 1:\n",
    "        print(\"{} dezena e {} unidade.\".format(dezenas,unidades))\n",
    "                    \n",
    "             "
   ]
  },
  {
   "cell_type": "code",
   "execution_count": null,
   "metadata": {},
   "outputs": [],
   "source": []
  },
  {
   "cell_type": "code",
   "execution_count": null,
   "metadata": {},
   "outputs": [],
   "source": []
  }
 ],
 "metadata": {
  "kernelspec": {
   "display_name": "Python 3",
   "language": "python",
   "name": "python3"
  },
  "language_info": {
   "codemirror_mode": {
    "name": "ipython",
    "version": 3
   },
   "file_extension": ".py",
   "mimetype": "text/x-python",
   "name": "python",
   "nbconvert_exporter": "python",
   "pygments_lexer": "ipython3",
   "version": "3.7.0"
  }
 },
 "nbformat": 4,
 "nbformat_minor": 2
}
