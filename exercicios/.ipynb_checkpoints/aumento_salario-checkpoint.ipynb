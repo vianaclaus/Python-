{
 "cells": [
  {
   "cell_type": "code",
   "execution_count": 4,
   "metadata": {},
   "outputs": [
    {
     "name": "stdout",
     "output_type": "stream",
     "text": [
      "Type the salary: 1200\n",
      "Salario antes do reajuste: 1200.0\n",
      "Percentual de aumento aplicado: 10%\n",
      "Valor do aumento: 120.0 \n",
      "Novo salário: 1320.0\n"
     ]
    }
   ],
   "source": [
    "salary = float(input(\"Type the salary: \"))\n",
    "salary_inc = 0\n",
    "\n",
    "if salary<=280.00:\n",
    "    salary_inc = (salary*20)/100    \n",
    "    print(\"Salario antes do reajuste: {}\".format(salary))\n",
    "    print(\"Percentual de aumento aplicado: 20%\")\n",
    "    print(\"Valor do aumento: {} \".format(salary_inc))\n",
    "    print(\"Novo salário: {}\".format(salary+salary_inc))    \n",
    "elif salary > 280 and salary <= 700:\n",
    "    salary_inc =(salary*15)/100   \n",
    "    print(\"Salario antes do reajuste: {}\".format(salary))\n",
    "    print(\"Percentual de aumento aplicado: 15%\")\n",
    "    print(\"Valor do aumento: {} \".format(salary_inc))\n",
    "    print(\"Novo salário: {}\".format(salary+salary_inc))\n",
    "elif salary > 700 and salary <= 1500:\n",
    "    salary_inc = (salary*10)/100    \n",
    "    print(\"Salario antes do reajuste: {}\".format(salary))\n",
    "    print(\"Percentual de aumento aplicado: 10%\")\n",
    "    print(\"Valor do aumento: {} \".format(salary_inc))\n",
    "    print(\"Novo salário: {}\".format(salary+salary_inc))\n",
    "else:\n",
    "    salary_inc = (salary*5)/100   \n",
    "    print(\"Salario antes do reajuste: {}\".format(salary))\n",
    "    print(\"Percentual de aumento aplicado: 5%\")\n",
    "    print(\"Valor do aumento: {} \".format(salary_inc))\n",
    "    print(\"Novo salário: {}\".format(salary+salary_inc))"
   ]
  },
  {
   "cell_type": "code",
   "execution_count": null,
   "metadata": {},
   "outputs": [],
   "source": []
  }
 ],
 "metadata": {
  "kernelspec": {
   "display_name": "Python 3",
   "language": "python",
   "name": "python3"
  },
  "language_info": {
   "codemirror_mode": {
    "name": "ipython",
    "version": 3
   },
   "file_extension": ".py",
   "mimetype": "text/x-python",
   "name": "python",
   "nbconvert_exporter": "python",
   "pygments_lexer": "ipython3",
   "version": "3.7.0"
  }
 },
 "nbformat": 4,
 "nbformat_minor": 2
}
