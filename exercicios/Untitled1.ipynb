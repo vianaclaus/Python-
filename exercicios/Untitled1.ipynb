{
 "cells": [
  {
   "cell_type": "code",
   "execution_count": 11,
   "metadata": {},
   "outputs": [
    {
     "name": "stdout",
     "output_type": "stream",
     "text": [
      "Entre com o valor de a: 100\n",
      "Entre com o valor de b: 1\n",
      "Entre com o valor de c: 1\n",
      "Não existem raízes reais para esses valores. Encerrando\n"
     ]
    }
   ],
   "source": [
    "import math\n",
    "\n",
    "def eq_seg_grau(a,b,c): \n",
    "    deltacalc = (b*b)-4*a*c \n",
    "    sqrt_value = math.sqrt(deltacalc)   \n",
    "    root1 = (-b + sqrt_value)/2*a\n",
    "    root2 = (-b - sqrt_value)/2*a\n",
    "    roots = [root1, root2]\n",
    "    return roots\n",
    "\n",
    "def encerrado():\n",
    "    print(\"Programa encerrado\")\n",
    "\n",
    "a = int(input(\"Entre com o valor de a: \"))\n",
    "\n",
    "if(a==0):    \n",
    "    encerrado()\n",
    "\n",
    "elif(a!=0):    \n",
    "    b = int(input(\"Entre com o valor de b: \"))\n",
    "    c = int(input(\"Entre com o valor de c: \"))\n",
    "\n",
    "    deltacalc = (b*b)- 4*(a*c)    \n",
    "\n",
    "    if(deltacalc<0):\n",
    "\n",
    "        print(\"Não existem raízes reais para esses valores. Encerrando\")\n",
    "\n",
    "    elif(deltacalc==0):        \n",
    "        list_raizes = eq_seg_grau(a,b,c)\n",
    "        print(\"O valor da única raiz é {} \".format(list_raizes[0]))\n",
    "    else:        \n",
    "        list_raizes = eq_seg_grau(a,b,c)\n",
    "        print(\"O valor da primeira raiz é {} \".format(list_raizes[0]))\n",
    "        print(\"O valor da segunda raiz é {} \".format(list_raizes[1]))\n",
    "\n",
    "\n",
    "             \n",
    "\n"
   ]
  },
  {
   "cell_type": "code",
   "execution_count": null,
   "metadata": {},
   "outputs": [],
   "source": []
  },
  {
   "cell_type": "code",
   "execution_count": null,
   "metadata": {},
   "outputs": [],
   "source": []
  }
 ],
 "metadata": {
  "kernelspec": {
   "display_name": "Python 3",
   "language": "python",
   "name": "python3"
  },
  "language_info": {
   "codemirror_mode": {
    "name": "ipython",
    "version": 3
   },
   "file_extension": ".py",
   "mimetype": "text/x-python",
   "name": "python",
   "nbconvert_exporter": "python",
   "pygments_lexer": "ipython3",
   "version": "3.7.0"
  }
 },
 "nbformat": 4,
 "nbformat_minor": 2
}
