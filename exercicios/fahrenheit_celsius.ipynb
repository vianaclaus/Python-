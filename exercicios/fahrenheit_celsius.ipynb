{
 "cells": [
  {
   "cell_type": "code",
   "execution_count": 2,
   "metadata": {},
   "outputs": [
    {
     "name": "stdout",
     "output_type": "stream",
     "text": [
      "Entre com a temperatura em celsius34\n",
      "Entre com a temperatura em fahrenheit23\n",
      "Em Fahreinheit essse valor é igual a 93.2\n",
      "Em Celsius esse valor é igual a -5.0\n"
     ]
    }
   ],
   "source": [
    "celsius = float(input(\"Entre com a temperatura em celsius\"))  \n",
    "fahr = float(input(\"Entre com a temperatura em fahrenheit\"))\n",
    "\n",
    "fahre = (celsius *1.8)+32  \n",
    "cels = (fahr-32)/1.8\n",
    "\n",
    "fahre = round(fahre, 2)\n",
    "cels = round(cels, 2)\n",
    "print(\"Em Fahreinheit essse valor é igual a {}\".format(fahre))  \n",
    "print(\"Em Celsius esse valor é igual a {}\".format(cels))\n",
    "    "
   ]
  },
  {
   "cell_type": "code",
   "execution_count": null,
   "metadata": {},
   "outputs": [],
   "source": []
  }
 ],
 "metadata": {
  "kernelspec": {
   "display_name": "Python 3",
   "language": "python",
   "name": "python3"
  },
  "language_info": {
   "codemirror_mode": {
    "name": "ipython",
    "version": 3
   },
   "file_extension": ".py",
   "mimetype": "text/x-python",
   "name": "python",
   "nbconvert_exporter": "python",
   "pygments_lexer": "ipython3",
   "version": "3.7.0"
  }
 },
 "nbformat": 4,
 "nbformat_minor": 2
}
