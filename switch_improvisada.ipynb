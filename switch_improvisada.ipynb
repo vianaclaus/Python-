{
 "cells": [
  {
   "cell_type": "code",
   "execution_count": null,
   "metadata": {},
   "outputs": [],
   "source": [
    "def switch_demo(arg):\n",
    "    switcher = {\n",
    "        1:\"Janeiro\",\n",
    "        2:\"Fevereiro\",\n",
    "        3:\"Março\",\n",
    "        4:\"Abril\",\n",
    "        5:\"Maio\",\n",
    "        6:\"Junho\",\n",
    "        7:\"Julho\",\n",
    "        8:\"Agosto\",\n",
    "        9:\"Setembro\",\n",
    "        10:\"Outubro\",\n",
    "        11:\"Novembro\",\n",
    "        12:\"Dezembro\"\n",
    "        }\n",
    "    print(switcher.get(arg, \"Invalido\"))\n",
    "    \n",
    "switch_demo(10)  "
   ]
  }
 ],
 "metadata": {
  "kernelspec": {
   "display_name": "Python 3",
   "language": "python",
   "name": "python3"
  },
  "language_info": {
   "codemirror_mode": {
    "name": "ipython",
    "version": 3
   },
   "file_extension": ".py",
   "mimetype": "text/x-python",
   "name": "python",
   "nbconvert_exporter": "python",
   "pygments_lexer": "ipython3",
   "version": "3.7.0"
  }
 },
 "nbformat": 4,
 "nbformat_minor": 2
}
