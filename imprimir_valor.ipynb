{
 "cells": [
  {
   "cell_type": "code",
   "execution_count": 2,
   "metadata": {},
   "outputs": [
    {
     "name": "stdout",
     "output_type": "stream",
     "text": [
      "Imprima até um valor maximo45\n",
      "3\n",
      "26\n",
      "31\n",
      "2\n",
      "9\n",
      "32\n",
      "23\n",
      "0\n",
      "1\n",
      "4\n",
      "28\n"
     ]
    }
   ],
   "source": [
    "lista = [78,3,26,31,2,9,32,56,23,54,0,1,4,28,90]\n",
    "valor_max = int(input(\"Imprima até um valor maximo\"))\n",
    "\n",
    "for i in lista:    \n",
    "    if(i<=valor_max):\n",
    "        print(i)      \n",
    "    "
   ]
  },
  {
   "cell_type": "code",
   "execution_count": null,
   "metadata": {},
   "outputs": [],
   "source": []
  }
 ],
 "metadata": {
  "kernelspec": {
   "display_name": "Python 3",
   "language": "python",
   "name": "python3"
  },
  "language_info": {
   "codemirror_mode": {
    "name": "ipython",
    "version": 3
   },
   "file_extension": ".py",
   "mimetype": "text/x-python",
   "name": "python",
   "nbconvert_exporter": "python",
   "pygments_lexer": "ipython3",
   "version": "3.7.0"
  }
 },
 "nbformat": 4,
 "nbformat_minor": 2
}
