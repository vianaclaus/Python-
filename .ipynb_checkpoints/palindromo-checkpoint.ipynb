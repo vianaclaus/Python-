{
 "cells": [
  {
   "cell_type": "code",
   "execution_count": 1,
   "metadata": {},
   "outputs": [
    {
     "name": "stdout",
     "output_type": "stream",
     "text": [
      "Entre com uma palavra: das\n",
      "não eh um palindromo\n"
     ]
    }
   ],
   "source": [
    "palavra = input(\"Entre com uma palavra: \")\n",
    "invert_palavra = palavra[::-1]\n",
    "\n",
    "if(palavra==invert_palavra):    \n",
    "    print(\"eh um palindromo\")   \n",
    "else:    \n",
    "    print(\"não eh um palindromo\")\n",
    "    \n",
    "    "
   ]
  },
  {
   "cell_type": "code",
   "execution_count": null,
   "metadata": {},
   "outputs": [],
   "source": []
  }
 ],
 "metadata": {
  "kernelspec": {
   "display_name": "Python 3",
   "language": "python",
   "name": "python3"
  },
  "language_info": {
   "codemirror_mode": {
    "name": "ipython",
    "version": 3
   },
   "file_extension": ".py",
   "mimetype": "text/x-python",
   "name": "python",
   "nbconvert_exporter": "python",
   "pygments_lexer": "ipython3",
   "version": "3.7.0"
  }
 },
 "nbformat": 4,
 "nbformat_minor": 2
}
