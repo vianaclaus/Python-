{
 "cells": [
  {
   "cell_type": "code",
   "execution_count": null,
   "metadata": {},
   "outputs": [],
   "source": [
    "lista1 = [23,67,34,9,1,2,3,0,9,8,7,6,5,4,3,2,1,57,24,16,93]\n",
    "lista2 = [78,45,29,19,2,86, 78,23,40,7,2,8]\n",
    "\n",
    "lista3 = []\n",
    "\n",
    "for i in lista1:\n",
    "    if(i not in lista2):\n",
    "        lista3+=[i]\n",
    "        \n",
    "print(lista3) \n",
    "        "
   ]
  }
 ],
 "metadata": {
  "kernelspec": {
   "display_name": "Python 3",
   "language": "python",
   "name": "python3"
  },
  "language_info": {
   "codemirror_mode": {
    "name": "ipython",
    "version": 3
   },
   "file_extension": ".py",
   "mimetype": "text/x-python",
   "name": "python",
   "nbconvert_exporter": "python",
   "pygments_lexer": "ipython3",
   "version": "3.7.0"
  }
 },
 "nbformat": 4,
 "nbformat_minor": 2
}
