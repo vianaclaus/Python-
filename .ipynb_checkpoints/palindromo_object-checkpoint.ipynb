{
 "cells": [
  {
   "cell_type": "code",
   "execution_count": null,
   "metadata": {},
   "outputs": [],
   "source": [
    "def palindromo(file):\n",
    "    invert_palavra = file[::-1]\n",
    "\n",
    "    if(file==invert_palavra):    \n",
    "        return \" eh um palindromo\"   \n",
    "    else:    \n",
    "        return \" não eh um palindromo\"\n",
    "        \n",
    "        \n",
    "with open(\"C:\\\\Users\\\\748303\\\\Documents\\\\file.txt\", \"a+\") as f:\n",
    "    filename = f.readline()  \n",
    "    stringue = palindromo(filename)\n",
    "    f.write(stringue)\n",
    "    "
   ]
  }
 ],
 "metadata": {
  "kernelspec": {
   "display_name": "Python 3",
   "language": "python",
   "name": "python3"
  },
  "language_info": {
   "codemirror_mode": {
    "name": "ipython",
    "version": 3
   },
   "file_extension": ".py",
   "mimetype": "text/x-python",
   "name": "python",
   "nbconvert_exporter": "python",
   "pygments_lexer": "ipython3",
   "version": "3.7.0"
  }
 },
 "nbformat": 4,
 "nbformat_minor": 2
}
